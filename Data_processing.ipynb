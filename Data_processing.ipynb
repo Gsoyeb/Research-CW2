{
 "cells": [
  {
   "cell_type": "code",
   "execution_count": 38,
   "outputs": [],
   "source": [
    "import pandas as pd\n",
    "import os\n",
    "\n",
    "# set the path to the folder containing the Excel files\n",
    "folder_path = r'/Users/soyebgolam/Documents/Masters-SecondSemester/Research Methods/Coursework2/Data_tableau'\n",
    "\n",
    "# get a list of all the Excel files in the folder\n",
    "file_list = [f for f in os.listdir(folder_path) if f.endswith('.xlsx')]\n",
    "\n",
    "\n",
    "dfs = []\n",
    "\n",
    "# iterate over the file list and read each file\n",
    "for file in file_list:\n",
    "    df = pd.read_excel(os.path.join(folder_path, file))\n",
    "    dfs.append(df)\n",
    "\n",
    "# concatenate dfs\n",
    "df = pd.concat(dfs)"
   ],
   "metadata": {
    "collapsed": false,
    "pycharm": {
     "name": "#%%\n"
    }
   }
  },
  {
   "cell_type": "code",
   "execution_count": 39,
   "outputs": [
    {
     "data": {
      "text/plain": "array(['USA', 'DEUTNP', 'FRATNP'], dtype=object)"
     },
     "execution_count": 39,
     "metadata": {},
     "output_type": "execute_result"
    }
   ],
   "source": [
    "df['PopName'].unique()"
   ],
   "metadata": {
    "collapsed": false,
    "pycharm": {
     "name": "#%%\n"
    }
   }
  },
  {
   "cell_type": "code",
   "execution_count": 40,
   "outputs": [
    {
     "data": {
      "text/plain": "PopName          object\nArea              int64\nYear              int64\nYearReg           int64\nYearInterval      int64\nSex              object\nAge              object\nAgeInterval      object\nLexis            object\nRefCode         float64\nAccess           object\nDeaths            int64\nNoteCode1        object\nNoteCode2        object\nNoteCode3        object\nLDB               int64\ndtype: object"
     },
     "execution_count": 40,
     "metadata": {},
     "output_type": "execute_result"
    }
   ],
   "source": [
    "df.dtypes"
   ],
   "metadata": {
    "collapsed": false,
    "pycharm": {
     "name": "#%%\n"
    }
   }
  },
  {
   "cell_type": "code",
   "execution_count": 41,
   "outputs": [
    {
     "data": {
      "text/plain": "array(['0', '1', '2', '3', '4', '5', '10', '15', '20', '25', '30', '35',\n       '40', '45', '50', '55', '60', '65', '70', '75', '80', '85', '90',\n       '95', '100', 'UNK', '86', '87', '88', '89', '91', '92', '93', '94',\n       '96', '97', '98', '99', '101', '102', '103', '104', '105', '106',\n       '107', '108', '109', '110', '111', '112', '113', '114', '115',\n       '116', '117', '118', '119', '120', '121', '122', '123', '124',\n       '125', '126', '127', '130', '6', '7', '8', '9', '11', '12', '13',\n       '14', '16', '17', '18', '19', '21', '22', '23', '24', '26', '27',\n       '28', '29', '31', '32', '33', '34', '36', '37', '38', '39', '41',\n       '42', '43', '44', '46', '47', '48', '49', '51', '52', '53', '54',\n       '56', '57', '58', '59', '61', '62', '63', '64', '66', '67', '68',\n       '69', '71', '72', '73', '74', '76', '77', '78', '79', '81', '82',\n       '83', '84', '128', '129', 0.0, 1.0, 2.0, 3.0, 4.0, 5.0, 6.0, 7.0,\n       8.0, 9.0, 10.0, 11.0, 12.0, 13.0, 14.0, 15.0, 16.0, 17.0, 18.0,\n       19.0, 20.0, 21.0, 22.0, 23.0, 24.0, 25.0, 26.0, 27.0, 28.0, 29.0,\n       30.0, 31.0, 32.0, 33.0, 34.0, 35.0, 36.0, 37.0, 38.0, 39.0, 40.0,\n       41.0, 42.0, 43.0, 44.0, 45.0, 46.0, 47.0, 48.0, 49.0, 50.0, 51.0,\n       52.0, 53.0, 54.0, 55.0, 56.0, 57.0, 58.0, 59.0, 60.0, 61.0, 62.0,\n       63.0, 64.0, 65.0, 66.0, 67.0, 68.0, 69.0, 70.0, 71.0, 72.0, 73.0,\n       74.0, 75.0, 76.0, 77.0, 78.0, 79.0, 80.0, 81.0, 82.0, 83.0, 84.0,\n       85.0, 86.0, 87.0, 88.0, 89.0, 90.0, 91.0, 92.0, 93.0, 94.0, 95.0,\n       96.0, 97.0, 98.0, 99.0, 100.0, 101.0, 102.0, 103.0, 104.0, 105.0,\n       106.0, 107.0, 108.0, 109.0, 110.0, 111.0, 112.0, 113.0, 114.0, nan,\n       'TOT'], dtype=object)"
     },
     "execution_count": 41,
     "metadata": {},
     "output_type": "execute_result"
    }
   ],
   "source": [
    "df['Age'].unique()"
   ],
   "metadata": {
    "collapsed": false,
    "pycharm": {
     "name": "#%%\n"
    }
   }
  },
  {
   "cell_type": "code",
   "execution_count": 42,
   "outputs": [],
   "source": [
    "df = df.dropna(subset=['Age'])"
   ],
   "metadata": {
    "collapsed": false,
    "pycharm": {
     "name": "#%%\n"
    }
   }
  },
  {
   "cell_type": "code",
   "execution_count": 43,
   "outputs": [],
   "source": [
    "# Filter out rows where 'Age' contains 'UKN' or 'TOT'\n",
    "df = df[~df['Age'].isin(['UNK', 'TOT'])]\n",
    "\n",
    "df['Age'] = df['Age'].astype(int)"
   ],
   "metadata": {
    "collapsed": false,
    "pycharm": {
     "name": "#%%\n"
    }
   }
  },
  {
   "cell_type": "code",
   "execution_count": 44,
   "outputs": [
    {
     "data": {
      "text/plain": "      PopName  Area  Year  YearReg  YearInterval Sex  Age AgeInterval Lexis  \\\n0         USA     2  1933     1933             1   f    0           1    RR   \n1         USA     2  1933     1933             1   f    1           1    RR   \n2         USA     2  1933     1933             1   f    2           1    RR   \n3         USA     2  1933     1933             1   f    3           1    RR   \n4         USA     2  1933     1933             1   f    4           1    RR   \n...       ...   ...   ...      ...           ...  ..  ...         ...   ...   \n58952  FRATNP   324  2020     2020             1   m   10           1    TU   \n58953  FRATNP   325  2020     2020             1   m   11           1    TL   \n58954  FRATNP   326  2020     2020             1   m   11           1    TU   \n58955  FRATNP   327  2020     2020             1   m   12           1    TL   \n58956  FRATNP   328  2020     2020             1   m   12           1    TU   \n\n       RefCode Access  Deaths NoteCode1 NoteCode2 NoteCode3  LDB  \n0          1.0      O   52556         .         .         .    1  \n1          1.0      O    8907         .         .         .    1  \n2          1.0      O    4332         .         .         .    1  \n3          1.0      O    3158         .         .         .    1  \n4          1.0      O    2491         .         .         .    1  \n...        ...    ...     ...       ...       ...       ...  ...  \n58952    130.0      O      15         .         .         .    1  \n58953    130.0      O      17         .         .         .    1  \n58954    130.0      O      13         .         .         .    1  \n58955    130.0      O      14         .         .         .    1  \n58956    130.0      O      29         .         .         .    1  \n\n[12090 rows x 16 columns]",
      "text/html": "<div>\n<style scoped>\n    .dataframe tbody tr th:only-of-type {\n        vertical-align: middle;\n    }\n\n    .dataframe tbody tr th {\n        vertical-align: top;\n    }\n\n    .dataframe thead th {\n        text-align: right;\n    }\n</style>\n<table border=\"1\" class=\"dataframe\">\n  <thead>\n    <tr style=\"text-align: right;\">\n      <th></th>\n      <th>PopName</th>\n      <th>Area</th>\n      <th>Year</th>\n      <th>YearReg</th>\n      <th>YearInterval</th>\n      <th>Sex</th>\n      <th>Age</th>\n      <th>AgeInterval</th>\n      <th>Lexis</th>\n      <th>RefCode</th>\n      <th>Access</th>\n      <th>Deaths</th>\n      <th>NoteCode1</th>\n      <th>NoteCode2</th>\n      <th>NoteCode3</th>\n      <th>LDB</th>\n    </tr>\n  </thead>\n  <tbody>\n    <tr>\n      <th>0</th>\n      <td>USA</td>\n      <td>2</td>\n      <td>1933</td>\n      <td>1933</td>\n      <td>1</td>\n      <td>f</td>\n      <td>0</td>\n      <td>1</td>\n      <td>RR</td>\n      <td>1.0</td>\n      <td>O</td>\n      <td>52556</td>\n      <td>.</td>\n      <td>.</td>\n      <td>.</td>\n      <td>1</td>\n    </tr>\n    <tr>\n      <th>1</th>\n      <td>USA</td>\n      <td>2</td>\n      <td>1933</td>\n      <td>1933</td>\n      <td>1</td>\n      <td>f</td>\n      <td>1</td>\n      <td>1</td>\n      <td>RR</td>\n      <td>1.0</td>\n      <td>O</td>\n      <td>8907</td>\n      <td>.</td>\n      <td>.</td>\n      <td>.</td>\n      <td>1</td>\n    </tr>\n    <tr>\n      <th>2</th>\n      <td>USA</td>\n      <td>2</td>\n      <td>1933</td>\n      <td>1933</td>\n      <td>1</td>\n      <td>f</td>\n      <td>2</td>\n      <td>1</td>\n      <td>RR</td>\n      <td>1.0</td>\n      <td>O</td>\n      <td>4332</td>\n      <td>.</td>\n      <td>.</td>\n      <td>.</td>\n      <td>1</td>\n    </tr>\n    <tr>\n      <th>3</th>\n      <td>USA</td>\n      <td>2</td>\n      <td>1933</td>\n      <td>1933</td>\n      <td>1</td>\n      <td>f</td>\n      <td>3</td>\n      <td>1</td>\n      <td>RR</td>\n      <td>1.0</td>\n      <td>O</td>\n      <td>3158</td>\n      <td>.</td>\n      <td>.</td>\n      <td>.</td>\n      <td>1</td>\n    </tr>\n    <tr>\n      <th>4</th>\n      <td>USA</td>\n      <td>2</td>\n      <td>1933</td>\n      <td>1933</td>\n      <td>1</td>\n      <td>f</td>\n      <td>4</td>\n      <td>1</td>\n      <td>RR</td>\n      <td>1.0</td>\n      <td>O</td>\n      <td>2491</td>\n      <td>.</td>\n      <td>.</td>\n      <td>.</td>\n      <td>1</td>\n    </tr>\n    <tr>\n      <th>...</th>\n      <td>...</td>\n      <td>...</td>\n      <td>...</td>\n      <td>...</td>\n      <td>...</td>\n      <td>...</td>\n      <td>...</td>\n      <td>...</td>\n      <td>...</td>\n      <td>...</td>\n      <td>...</td>\n      <td>...</td>\n      <td>...</td>\n      <td>...</td>\n      <td>...</td>\n      <td>...</td>\n    </tr>\n    <tr>\n      <th>58952</th>\n      <td>FRATNP</td>\n      <td>324</td>\n      <td>2020</td>\n      <td>2020</td>\n      <td>1</td>\n      <td>m</td>\n      <td>10</td>\n      <td>1</td>\n      <td>TU</td>\n      <td>130.0</td>\n      <td>O</td>\n      <td>15</td>\n      <td>.</td>\n      <td>.</td>\n      <td>.</td>\n      <td>1</td>\n    </tr>\n    <tr>\n      <th>58953</th>\n      <td>FRATNP</td>\n      <td>325</td>\n      <td>2020</td>\n      <td>2020</td>\n      <td>1</td>\n      <td>m</td>\n      <td>11</td>\n      <td>1</td>\n      <td>TL</td>\n      <td>130.0</td>\n      <td>O</td>\n      <td>17</td>\n      <td>.</td>\n      <td>.</td>\n      <td>.</td>\n      <td>1</td>\n    </tr>\n    <tr>\n      <th>58954</th>\n      <td>FRATNP</td>\n      <td>326</td>\n      <td>2020</td>\n      <td>2020</td>\n      <td>1</td>\n      <td>m</td>\n      <td>11</td>\n      <td>1</td>\n      <td>TU</td>\n      <td>130.0</td>\n      <td>O</td>\n      <td>13</td>\n      <td>.</td>\n      <td>.</td>\n      <td>.</td>\n      <td>1</td>\n    </tr>\n    <tr>\n      <th>58955</th>\n      <td>FRATNP</td>\n      <td>327</td>\n      <td>2020</td>\n      <td>2020</td>\n      <td>1</td>\n      <td>m</td>\n      <td>12</td>\n      <td>1</td>\n      <td>TL</td>\n      <td>130.0</td>\n      <td>O</td>\n      <td>14</td>\n      <td>.</td>\n      <td>.</td>\n      <td>.</td>\n      <td>1</td>\n    </tr>\n    <tr>\n      <th>58956</th>\n      <td>FRATNP</td>\n      <td>328</td>\n      <td>2020</td>\n      <td>2020</td>\n      <td>1</td>\n      <td>m</td>\n      <td>12</td>\n      <td>1</td>\n      <td>TU</td>\n      <td>130.0</td>\n      <td>O</td>\n      <td>29</td>\n      <td>.</td>\n      <td>.</td>\n      <td>.</td>\n      <td>1</td>\n    </tr>\n  </tbody>\n</table>\n<p>12090 rows × 16 columns</p>\n</div>"
     },
     "execution_count": 44,
     "metadata": {},
     "output_type": "execute_result"
    }
   ],
   "source": [
    "# Filter the data to include only records for children aged 0-12\n",
    "children_df = df[(df['Age'] >= 0) & (df['Age'] <= 12)]\n",
    "\n",
    "children_df"
   ],
   "metadata": {
    "collapsed": false,
    "pycharm": {
     "name": "#%%\n"
    }
   }
  },
  {
   "cell_type": "code",
   "execution_count": 45,
   "outputs": [
    {
     "data": {
      "text/plain": "PopName\nDEUTNP    2020\nFRATNP    2020\nUSA       2021\nName: Year, dtype: int64"
     },
     "execution_count": 45,
     "metadata": {},
     "output_type": "execute_result"
    }
   ],
   "source": [
    "children_df.groupby('PopName')['Year'].max()"
   ],
   "metadata": {
    "collapsed": false,
    "pycharm": {
     "name": "#%%\n"
    }
   }
  },
  {
   "cell_type": "code",
   "execution_count": 46,
   "outputs": [
    {
     "data": {
      "text/plain": "PopName\nDEUTNP    1991\nFRATNP    1816\nUSA       1933\nName: Year, dtype: int64"
     },
     "execution_count": 46,
     "metadata": {},
     "output_type": "execute_result"
    }
   ],
   "source": [
    "children_df.groupby('PopName')['Year'].min()"
   ],
   "metadata": {
    "collapsed": false,
    "pycharm": {
     "name": "#%%\n"
    }
   }
  },
  {
   "cell_type": "code",
   "execution_count": 47,
   "outputs": [
    {
     "data": {
      "text/plain": "      PopName  Area  Year  YearReg  YearInterval Sex  Age AgeInterval Lexis  \\\n17198     USA     1  1991     1991             1   f    0           1    TL   \n17199     USA     1  1991     1991             1   f    0           1    TU   \n17200     USA     1  1991     1991             1   f    1           1    TL   \n17201     USA     1  1991     1991             1   f    1           1    TU   \n17202     USA     1  1991     1991             1   f    2           1    TL   \n...       ...   ...   ...      ...           ...  ..  ...         ...   ...   \n58952  FRATNP   324  2020     2020             1   m   10           1    TU   \n58953  FRATNP   325  2020     2020             1   m   11           1    TL   \n58954  FRATNP   326  2020     2020             1   m   11           1    TU   \n58955  FRATNP   327  2020     2020             1   m   12           1    TL   \n58956  FRATNP   328  2020     2020             1   m   12           1    TU   \n\n       RefCode Access  Deaths NoteCode1 NoteCode2 NoteCode3  LDB  \n17198    253.0      O   13641         .         .         .    1  \n17199    253.0      O    2270         .         .         .    1  \n17200    253.0      O     783         .         .         .    1  \n17201    253.0      O     566         .         .         .    1  \n17202    253.0      O     428         .         .         .    1  \n...        ...    ...     ...       ...       ...       ...  ...  \n58952    130.0      O      15         .         .         .    1  \n58953    130.0      O      17         .         .         .    1  \n58954    130.0      O      13         .         .         .    1  \n58955    130.0      O      14         .         .         .    1  \n58956    130.0      O      29         .         .         .    1  \n\n[312 rows x 16 columns]",
      "text/html": "<div>\n<style scoped>\n    .dataframe tbody tr th:only-of-type {\n        vertical-align: middle;\n    }\n\n    .dataframe tbody tr th {\n        vertical-align: top;\n    }\n\n    .dataframe thead th {\n        text-align: right;\n    }\n</style>\n<table border=\"1\" class=\"dataframe\">\n  <thead>\n    <tr style=\"text-align: right;\">\n      <th></th>\n      <th>PopName</th>\n      <th>Area</th>\n      <th>Year</th>\n      <th>YearReg</th>\n      <th>YearInterval</th>\n      <th>Sex</th>\n      <th>Age</th>\n      <th>AgeInterval</th>\n      <th>Lexis</th>\n      <th>RefCode</th>\n      <th>Access</th>\n      <th>Deaths</th>\n      <th>NoteCode1</th>\n      <th>NoteCode2</th>\n      <th>NoteCode3</th>\n      <th>LDB</th>\n    </tr>\n  </thead>\n  <tbody>\n    <tr>\n      <th>17198</th>\n      <td>USA</td>\n      <td>1</td>\n      <td>1991</td>\n      <td>1991</td>\n      <td>1</td>\n      <td>f</td>\n      <td>0</td>\n      <td>1</td>\n      <td>TL</td>\n      <td>253.0</td>\n      <td>O</td>\n      <td>13641</td>\n      <td>.</td>\n      <td>.</td>\n      <td>.</td>\n      <td>1</td>\n    </tr>\n    <tr>\n      <th>17199</th>\n      <td>USA</td>\n      <td>1</td>\n      <td>1991</td>\n      <td>1991</td>\n      <td>1</td>\n      <td>f</td>\n      <td>0</td>\n      <td>1</td>\n      <td>TU</td>\n      <td>253.0</td>\n      <td>O</td>\n      <td>2270</td>\n      <td>.</td>\n      <td>.</td>\n      <td>.</td>\n      <td>1</td>\n    </tr>\n    <tr>\n      <th>17200</th>\n      <td>USA</td>\n      <td>1</td>\n      <td>1991</td>\n      <td>1991</td>\n      <td>1</td>\n      <td>f</td>\n      <td>1</td>\n      <td>1</td>\n      <td>TL</td>\n      <td>253.0</td>\n      <td>O</td>\n      <td>783</td>\n      <td>.</td>\n      <td>.</td>\n      <td>.</td>\n      <td>1</td>\n    </tr>\n    <tr>\n      <th>17201</th>\n      <td>USA</td>\n      <td>1</td>\n      <td>1991</td>\n      <td>1991</td>\n      <td>1</td>\n      <td>f</td>\n      <td>1</td>\n      <td>1</td>\n      <td>TU</td>\n      <td>253.0</td>\n      <td>O</td>\n      <td>566</td>\n      <td>.</td>\n      <td>.</td>\n      <td>.</td>\n      <td>1</td>\n    </tr>\n    <tr>\n      <th>17202</th>\n      <td>USA</td>\n      <td>1</td>\n      <td>1991</td>\n      <td>1991</td>\n      <td>1</td>\n      <td>f</td>\n      <td>2</td>\n      <td>1</td>\n      <td>TL</td>\n      <td>253.0</td>\n      <td>O</td>\n      <td>428</td>\n      <td>.</td>\n      <td>.</td>\n      <td>.</td>\n      <td>1</td>\n    </tr>\n    <tr>\n      <th>...</th>\n      <td>...</td>\n      <td>...</td>\n      <td>...</td>\n      <td>...</td>\n      <td>...</td>\n      <td>...</td>\n      <td>...</td>\n      <td>...</td>\n      <td>...</td>\n      <td>...</td>\n      <td>...</td>\n      <td>...</td>\n      <td>...</td>\n      <td>...</td>\n      <td>...</td>\n      <td>...</td>\n    </tr>\n    <tr>\n      <th>58952</th>\n      <td>FRATNP</td>\n      <td>324</td>\n      <td>2020</td>\n      <td>2020</td>\n      <td>1</td>\n      <td>m</td>\n      <td>10</td>\n      <td>1</td>\n      <td>TU</td>\n      <td>130.0</td>\n      <td>O</td>\n      <td>15</td>\n      <td>.</td>\n      <td>.</td>\n      <td>.</td>\n      <td>1</td>\n    </tr>\n    <tr>\n      <th>58953</th>\n      <td>FRATNP</td>\n      <td>325</td>\n      <td>2020</td>\n      <td>2020</td>\n      <td>1</td>\n      <td>m</td>\n      <td>11</td>\n      <td>1</td>\n      <td>TL</td>\n      <td>130.0</td>\n      <td>O</td>\n      <td>17</td>\n      <td>.</td>\n      <td>.</td>\n      <td>.</td>\n      <td>1</td>\n    </tr>\n    <tr>\n      <th>58954</th>\n      <td>FRATNP</td>\n      <td>326</td>\n      <td>2020</td>\n      <td>2020</td>\n      <td>1</td>\n      <td>m</td>\n      <td>11</td>\n      <td>1</td>\n      <td>TU</td>\n      <td>130.0</td>\n      <td>O</td>\n      <td>13</td>\n      <td>.</td>\n      <td>.</td>\n      <td>.</td>\n      <td>1</td>\n    </tr>\n    <tr>\n      <th>58955</th>\n      <td>FRATNP</td>\n      <td>327</td>\n      <td>2020</td>\n      <td>2020</td>\n      <td>1</td>\n      <td>m</td>\n      <td>12</td>\n      <td>1</td>\n      <td>TL</td>\n      <td>130.0</td>\n      <td>O</td>\n      <td>14</td>\n      <td>.</td>\n      <td>.</td>\n      <td>.</td>\n      <td>1</td>\n    </tr>\n    <tr>\n      <th>58956</th>\n      <td>FRATNP</td>\n      <td>328</td>\n      <td>2020</td>\n      <td>2020</td>\n      <td>1</td>\n      <td>m</td>\n      <td>12</td>\n      <td>1</td>\n      <td>TU</td>\n      <td>130.0</td>\n      <td>O</td>\n      <td>29</td>\n      <td>.</td>\n      <td>.</td>\n      <td>.</td>\n      <td>1</td>\n    </tr>\n  </tbody>\n</table>\n<p>312 rows × 16 columns</p>\n</div>"
     },
     "execution_count": 47,
     "metadata": {},
     "output_type": "execute_result"
    }
   ],
   "source": [
    "df_children = children_df[(children_df['Year'] == 1991) | (children_df['Year'] == 2020)]\n",
    "df_children"
   ],
   "metadata": {
    "collapsed": false,
    "pycharm": {
     "name": "#%%\n"
    }
   }
  },
  {
   "cell_type": "code",
   "execution_count": 48,
   "outputs": [
    {
     "data": {
      "text/plain": "      PopName  Area  Year  YearReg  YearInterval Sex  Age AgeInterval Lexis  \\\n17198     USA     1  1991     1991             1   f    0           1    TL   \n17199     USA     1  1991     1991             1   f    0           1    TU   \n17200     USA     1  1991     1991             1   f    1           1    TL   \n17201     USA     1  1991     1991             1   f    1           1    TU   \n17202     USA     1  1991     1991             1   f    2           1    TL   \n...       ...   ...   ...      ...           ...  ..  ...         ...   ...   \n58952  FRATNP   324  2020     2020             1   m   10           1    TU   \n58953  FRATNP   325  2020     2020             1   m   11           1    TL   \n58954  FRATNP   326  2020     2020             1   m   11           1    TU   \n58955  FRATNP   327  2020     2020             1   m   12           1    TL   \n58956  FRATNP   328  2020     2020             1   m   12           1    TU   \n\n       RefCode  Deaths  \n17198    253.0   13641  \n17199    253.0    2270  \n17200    253.0     783  \n17201    253.0     566  \n17202    253.0     428  \n...        ...     ...  \n58952    130.0      15  \n58953    130.0      17  \n58954    130.0      13  \n58955    130.0      14  \n58956    130.0      29  \n\n[312 rows x 11 columns]",
      "text/html": "<div>\n<style scoped>\n    .dataframe tbody tr th:only-of-type {\n        vertical-align: middle;\n    }\n\n    .dataframe tbody tr th {\n        vertical-align: top;\n    }\n\n    .dataframe thead th {\n        text-align: right;\n    }\n</style>\n<table border=\"1\" class=\"dataframe\">\n  <thead>\n    <tr style=\"text-align: right;\">\n      <th></th>\n      <th>PopName</th>\n      <th>Area</th>\n      <th>Year</th>\n      <th>YearReg</th>\n      <th>YearInterval</th>\n      <th>Sex</th>\n      <th>Age</th>\n      <th>AgeInterval</th>\n      <th>Lexis</th>\n      <th>RefCode</th>\n      <th>Deaths</th>\n    </tr>\n  </thead>\n  <tbody>\n    <tr>\n      <th>17198</th>\n      <td>USA</td>\n      <td>1</td>\n      <td>1991</td>\n      <td>1991</td>\n      <td>1</td>\n      <td>f</td>\n      <td>0</td>\n      <td>1</td>\n      <td>TL</td>\n      <td>253.0</td>\n      <td>13641</td>\n    </tr>\n    <tr>\n      <th>17199</th>\n      <td>USA</td>\n      <td>1</td>\n      <td>1991</td>\n      <td>1991</td>\n      <td>1</td>\n      <td>f</td>\n      <td>0</td>\n      <td>1</td>\n      <td>TU</td>\n      <td>253.0</td>\n      <td>2270</td>\n    </tr>\n    <tr>\n      <th>17200</th>\n      <td>USA</td>\n      <td>1</td>\n      <td>1991</td>\n      <td>1991</td>\n      <td>1</td>\n      <td>f</td>\n      <td>1</td>\n      <td>1</td>\n      <td>TL</td>\n      <td>253.0</td>\n      <td>783</td>\n    </tr>\n    <tr>\n      <th>17201</th>\n      <td>USA</td>\n      <td>1</td>\n      <td>1991</td>\n      <td>1991</td>\n      <td>1</td>\n      <td>f</td>\n      <td>1</td>\n      <td>1</td>\n      <td>TU</td>\n      <td>253.0</td>\n      <td>566</td>\n    </tr>\n    <tr>\n      <th>17202</th>\n      <td>USA</td>\n      <td>1</td>\n      <td>1991</td>\n      <td>1991</td>\n      <td>1</td>\n      <td>f</td>\n      <td>2</td>\n      <td>1</td>\n      <td>TL</td>\n      <td>253.0</td>\n      <td>428</td>\n    </tr>\n    <tr>\n      <th>...</th>\n      <td>...</td>\n      <td>...</td>\n      <td>...</td>\n      <td>...</td>\n      <td>...</td>\n      <td>...</td>\n      <td>...</td>\n      <td>...</td>\n      <td>...</td>\n      <td>...</td>\n      <td>...</td>\n    </tr>\n    <tr>\n      <th>58952</th>\n      <td>FRATNP</td>\n      <td>324</td>\n      <td>2020</td>\n      <td>2020</td>\n      <td>1</td>\n      <td>m</td>\n      <td>10</td>\n      <td>1</td>\n      <td>TU</td>\n      <td>130.0</td>\n      <td>15</td>\n    </tr>\n    <tr>\n      <th>58953</th>\n      <td>FRATNP</td>\n      <td>325</td>\n      <td>2020</td>\n      <td>2020</td>\n      <td>1</td>\n      <td>m</td>\n      <td>11</td>\n      <td>1</td>\n      <td>TL</td>\n      <td>130.0</td>\n      <td>17</td>\n    </tr>\n    <tr>\n      <th>58954</th>\n      <td>FRATNP</td>\n      <td>326</td>\n      <td>2020</td>\n      <td>2020</td>\n      <td>1</td>\n      <td>m</td>\n      <td>11</td>\n      <td>1</td>\n      <td>TU</td>\n      <td>130.0</td>\n      <td>13</td>\n    </tr>\n    <tr>\n      <th>58955</th>\n      <td>FRATNP</td>\n      <td>327</td>\n      <td>2020</td>\n      <td>2020</td>\n      <td>1</td>\n      <td>m</td>\n      <td>12</td>\n      <td>1</td>\n      <td>TL</td>\n      <td>130.0</td>\n      <td>14</td>\n    </tr>\n    <tr>\n      <th>58956</th>\n      <td>FRATNP</td>\n      <td>328</td>\n      <td>2020</td>\n      <td>2020</td>\n      <td>1</td>\n      <td>m</td>\n      <td>12</td>\n      <td>1</td>\n      <td>TU</td>\n      <td>130.0</td>\n      <td>29</td>\n    </tr>\n  </tbody>\n</table>\n<p>312 rows × 11 columns</p>\n</div>"
     },
     "execution_count": 48,
     "metadata": {},
     "output_type": "execute_result"
    }
   ],
   "source": [
    "df_children = df_children.drop(['NoteCode1', 'NoteCode2', 'NoteCode3', 'Access','LDB'], axis=1)\n",
    "df_children"
   ],
   "metadata": {
    "collapsed": false,
    "pycharm": {
     "name": "#%%\n"
    }
   }
  },
  {
   "cell_type": "code",
   "execution_count": 49,
   "outputs": [
    {
     "data": {
      "text/plain": "array([253., 303.,   5.,  55.,  26., 130.])"
     },
     "execution_count": 49,
     "metadata": {},
     "output_type": "execute_result"
    }
   ],
   "source": [
    "df_children.RefCode.unique()"
   ],
   "metadata": {
    "collapsed": false,
    "pycharm": {
     "name": "#%%\n"
    }
   }
  },
  {
   "cell_type": "code",
   "execution_count": 50,
   "outputs": [
    {
     "data": {
      "text/plain": "array(['1', 1.0], dtype=object)"
     },
     "execution_count": 50,
     "metadata": {},
     "output_type": "execute_result"
    }
   ],
   "source": [
    "df_children['AgeInterval'].unique()"
   ],
   "metadata": {
    "collapsed": false,
    "pycharm": {
     "name": "#%%\n"
    }
   }
  },
  {
   "cell_type": "code",
   "execution_count": 51,
   "outputs": [],
   "source": [
    "df_children['AgeInterval'] = df_children['AgeInterval'].astype(int)"
   ],
   "metadata": {
    "collapsed": false,
    "pycharm": {
     "name": "#%%\n"
    }
   }
  },
  {
   "cell_type": "code",
   "execution_count": 52,
   "outputs": [],
   "source": [
    "df_children['Sex'] = df_children['Sex'].apply(str)\n",
    "df_children['PopName'] = df_children['PopName'].apply(str)"
   ],
   "metadata": {
    "collapsed": false,
    "pycharm": {
     "name": "#%%\n"
    }
   }
  },
  {
   "cell_type": "code",
   "execution_count": 54,
   "outputs": [
    {
     "data": {
      "text/plain": "    PopName  Area  Year  YearReg  YearInterval Sex  Age  AgeInterval Lexis  \\\n0       USA     1  1991     1991             1   f    0            1    TL   \n1       USA     1  1991     1991             1   f    0            1    TU   \n2       USA     1  1991     1991             1   f    1            1    TL   \n3       USA     1  1991     1991             1   f    1            1    TU   \n4       USA     1  1991     1991             1   f    2            1    TL   \n..      ...   ...   ...      ...           ...  ..  ...          ...   ...   \n307  FRATNP   324  2020     2020             1   m   10            1    TU   \n308  FRATNP   325  2020     2020             1   m   11            1    TL   \n309  FRATNP   326  2020     2020             1   m   11            1    TU   \n310  FRATNP   327  2020     2020             1   m   12            1    TL   \n311  FRATNP   328  2020     2020             1   m   12            1    TU   \n\n     RefCode  Deaths  \n0      253.0   13641  \n1      253.0    2270  \n2      253.0     783  \n3      253.0     566  \n4      253.0     428  \n..       ...     ...  \n307    130.0      15  \n308    130.0      17  \n309    130.0      13  \n310    130.0      14  \n311    130.0      29  \n\n[312 rows x 11 columns]",
      "text/html": "<div>\n<style scoped>\n    .dataframe tbody tr th:only-of-type {\n        vertical-align: middle;\n    }\n\n    .dataframe tbody tr th {\n        vertical-align: top;\n    }\n\n    .dataframe thead th {\n        text-align: right;\n    }\n</style>\n<table border=\"1\" class=\"dataframe\">\n  <thead>\n    <tr style=\"text-align: right;\">\n      <th></th>\n      <th>PopName</th>\n      <th>Area</th>\n      <th>Year</th>\n      <th>YearReg</th>\n      <th>YearInterval</th>\n      <th>Sex</th>\n      <th>Age</th>\n      <th>AgeInterval</th>\n      <th>Lexis</th>\n      <th>RefCode</th>\n      <th>Deaths</th>\n    </tr>\n  </thead>\n  <tbody>\n    <tr>\n      <th>0</th>\n      <td>USA</td>\n      <td>1</td>\n      <td>1991</td>\n      <td>1991</td>\n      <td>1</td>\n      <td>f</td>\n      <td>0</td>\n      <td>1</td>\n      <td>TL</td>\n      <td>253.0</td>\n      <td>13641</td>\n    </tr>\n    <tr>\n      <th>1</th>\n      <td>USA</td>\n      <td>1</td>\n      <td>1991</td>\n      <td>1991</td>\n      <td>1</td>\n      <td>f</td>\n      <td>0</td>\n      <td>1</td>\n      <td>TU</td>\n      <td>253.0</td>\n      <td>2270</td>\n    </tr>\n    <tr>\n      <th>2</th>\n      <td>USA</td>\n      <td>1</td>\n      <td>1991</td>\n      <td>1991</td>\n      <td>1</td>\n      <td>f</td>\n      <td>1</td>\n      <td>1</td>\n      <td>TL</td>\n      <td>253.0</td>\n      <td>783</td>\n    </tr>\n    <tr>\n      <th>3</th>\n      <td>USA</td>\n      <td>1</td>\n      <td>1991</td>\n      <td>1991</td>\n      <td>1</td>\n      <td>f</td>\n      <td>1</td>\n      <td>1</td>\n      <td>TU</td>\n      <td>253.0</td>\n      <td>566</td>\n    </tr>\n    <tr>\n      <th>4</th>\n      <td>USA</td>\n      <td>1</td>\n      <td>1991</td>\n      <td>1991</td>\n      <td>1</td>\n      <td>f</td>\n      <td>2</td>\n      <td>1</td>\n      <td>TL</td>\n      <td>253.0</td>\n      <td>428</td>\n    </tr>\n    <tr>\n      <th>...</th>\n      <td>...</td>\n      <td>...</td>\n      <td>...</td>\n      <td>...</td>\n      <td>...</td>\n      <td>...</td>\n      <td>...</td>\n      <td>...</td>\n      <td>...</td>\n      <td>...</td>\n      <td>...</td>\n    </tr>\n    <tr>\n      <th>307</th>\n      <td>FRATNP</td>\n      <td>324</td>\n      <td>2020</td>\n      <td>2020</td>\n      <td>1</td>\n      <td>m</td>\n      <td>10</td>\n      <td>1</td>\n      <td>TU</td>\n      <td>130.0</td>\n      <td>15</td>\n    </tr>\n    <tr>\n      <th>308</th>\n      <td>FRATNP</td>\n      <td>325</td>\n      <td>2020</td>\n      <td>2020</td>\n      <td>1</td>\n      <td>m</td>\n      <td>11</td>\n      <td>1</td>\n      <td>TL</td>\n      <td>130.0</td>\n      <td>17</td>\n    </tr>\n    <tr>\n      <th>309</th>\n      <td>FRATNP</td>\n      <td>326</td>\n      <td>2020</td>\n      <td>2020</td>\n      <td>1</td>\n      <td>m</td>\n      <td>11</td>\n      <td>1</td>\n      <td>TU</td>\n      <td>130.0</td>\n      <td>13</td>\n    </tr>\n    <tr>\n      <th>310</th>\n      <td>FRATNP</td>\n      <td>327</td>\n      <td>2020</td>\n      <td>2020</td>\n      <td>1</td>\n      <td>m</td>\n      <td>12</td>\n      <td>1</td>\n      <td>TL</td>\n      <td>130.0</td>\n      <td>14</td>\n    </tr>\n    <tr>\n      <th>311</th>\n      <td>FRATNP</td>\n      <td>328</td>\n      <td>2020</td>\n      <td>2020</td>\n      <td>1</td>\n      <td>m</td>\n      <td>12</td>\n      <td>1</td>\n      <td>TU</td>\n      <td>130.0</td>\n      <td>29</td>\n    </tr>\n  </tbody>\n</table>\n<p>312 rows × 11 columns</p>\n</div>"
     },
     "execution_count": 54,
     "metadata": {},
     "output_type": "execute_result"
    }
   ],
   "source": [
    "df_children = df_children.reset_index(drop=True)\n",
    "df_children"
   ],
   "metadata": {
    "collapsed": false,
    "pycharm": {
     "name": "#%%\n"
    }
   }
  },
  {
   "cell_type": "code",
   "execution_count": 55,
   "outputs": [
    {
     "data": {
      "text/plain": "    PopName  Area  Year  YearInterval Sex  Age  AgeInterval  Deaths\n0       USA     1  1991             1   f    0            1   13641\n1       USA     1  1991             1   f    0            1    2270\n2       USA     1  1991             1   f    1            1     783\n3       USA     1  1991             1   f    1            1     566\n4       USA     1  1991             1   f    2            1     428\n..      ...   ...   ...           ...  ..  ...          ...     ...\n307  FRATNP   324  2020             1   m   10            1      15\n308  FRATNP   325  2020             1   m   11            1      17\n309  FRATNP   326  2020             1   m   11            1      13\n310  FRATNP   327  2020             1   m   12            1      14\n311  FRATNP   328  2020             1   m   12            1      29\n\n[312 rows x 8 columns]",
      "text/html": "<div>\n<style scoped>\n    .dataframe tbody tr th:only-of-type {\n        vertical-align: middle;\n    }\n\n    .dataframe tbody tr th {\n        vertical-align: top;\n    }\n\n    .dataframe thead th {\n        text-align: right;\n    }\n</style>\n<table border=\"1\" class=\"dataframe\">\n  <thead>\n    <tr style=\"text-align: right;\">\n      <th></th>\n      <th>PopName</th>\n      <th>Area</th>\n      <th>Year</th>\n      <th>YearInterval</th>\n      <th>Sex</th>\n      <th>Age</th>\n      <th>AgeInterval</th>\n      <th>Deaths</th>\n    </tr>\n  </thead>\n  <tbody>\n    <tr>\n      <th>0</th>\n      <td>USA</td>\n      <td>1</td>\n      <td>1991</td>\n      <td>1</td>\n      <td>f</td>\n      <td>0</td>\n      <td>1</td>\n      <td>13641</td>\n    </tr>\n    <tr>\n      <th>1</th>\n      <td>USA</td>\n      <td>1</td>\n      <td>1991</td>\n      <td>1</td>\n      <td>f</td>\n      <td>0</td>\n      <td>1</td>\n      <td>2270</td>\n    </tr>\n    <tr>\n      <th>2</th>\n      <td>USA</td>\n      <td>1</td>\n      <td>1991</td>\n      <td>1</td>\n      <td>f</td>\n      <td>1</td>\n      <td>1</td>\n      <td>783</td>\n    </tr>\n    <tr>\n      <th>3</th>\n      <td>USA</td>\n      <td>1</td>\n      <td>1991</td>\n      <td>1</td>\n      <td>f</td>\n      <td>1</td>\n      <td>1</td>\n      <td>566</td>\n    </tr>\n    <tr>\n      <th>4</th>\n      <td>USA</td>\n      <td>1</td>\n      <td>1991</td>\n      <td>1</td>\n      <td>f</td>\n      <td>2</td>\n      <td>1</td>\n      <td>428</td>\n    </tr>\n    <tr>\n      <th>...</th>\n      <td>...</td>\n      <td>...</td>\n      <td>...</td>\n      <td>...</td>\n      <td>...</td>\n      <td>...</td>\n      <td>...</td>\n      <td>...</td>\n    </tr>\n    <tr>\n      <th>307</th>\n      <td>FRATNP</td>\n      <td>324</td>\n      <td>2020</td>\n      <td>1</td>\n      <td>m</td>\n      <td>10</td>\n      <td>1</td>\n      <td>15</td>\n    </tr>\n    <tr>\n      <th>308</th>\n      <td>FRATNP</td>\n      <td>325</td>\n      <td>2020</td>\n      <td>1</td>\n      <td>m</td>\n      <td>11</td>\n      <td>1</td>\n      <td>17</td>\n    </tr>\n    <tr>\n      <th>309</th>\n      <td>FRATNP</td>\n      <td>326</td>\n      <td>2020</td>\n      <td>1</td>\n      <td>m</td>\n      <td>11</td>\n      <td>1</td>\n      <td>13</td>\n    </tr>\n    <tr>\n      <th>310</th>\n      <td>FRATNP</td>\n      <td>327</td>\n      <td>2020</td>\n      <td>1</td>\n      <td>m</td>\n      <td>12</td>\n      <td>1</td>\n      <td>14</td>\n    </tr>\n    <tr>\n      <th>311</th>\n      <td>FRATNP</td>\n      <td>328</td>\n      <td>2020</td>\n      <td>1</td>\n      <td>m</td>\n      <td>12</td>\n      <td>1</td>\n      <td>29</td>\n    </tr>\n  </tbody>\n</table>\n<p>312 rows × 8 columns</p>\n</div>"
     },
     "execution_count": 55,
     "metadata": {},
     "output_type": "execute_result"
    }
   ],
   "source": [
    "# drop useless columns\n",
    "df_children = df_children.drop(['Lexis','RefCode', 'YearReg'], axis=1)\n",
    "df_children"
   ],
   "metadata": {
    "collapsed": false,
    "pycharm": {
     "name": "#%%\n"
    }
   }
  },
  {
   "cell_type": "code",
   "execution_count": 56,
   "outputs": [
    {
     "data": {
      "text/plain": "    PopName  Area  Year  YearInterval Sex  Age  AgeInterval  Deaths  \\\n0       USA     1  1991             1   f    0            1   13641   \n1       USA     1  1991             1   f    0            1    2270   \n2       USA     1  1991             1   f    1            1     783   \n3       USA     1  1991             1   f    1            1     566   \n4       USA     1  1991             1   f    2            1     428   \n..      ...   ...   ...           ...  ..  ...          ...     ...   \n307  FRATNP   324  2020             1   m   10            1      15   \n308  FRATNP   325  2020             1   m   11            1      17   \n309  FRATNP   326  2020             1   m   11            1      13   \n310  FRATNP   327  2020             1   m   12            1      14   \n311  FRATNP   328  2020             1   m   12            1      29   \n\n           children  \n0    Children[0-12]  \n1    Children[0-12]  \n2    Children[0-12]  \n3    Children[0-12]  \n4    Children[0-12]  \n..              ...  \n307  Children[0-12]  \n308  Children[0-12]  \n309  Children[0-12]  \n310  Children[0-12]  \n311  Children[0-12]  \n\n[312 rows x 9 columns]",
      "text/html": "<div>\n<style scoped>\n    .dataframe tbody tr th:only-of-type {\n        vertical-align: middle;\n    }\n\n    .dataframe tbody tr th {\n        vertical-align: top;\n    }\n\n    .dataframe thead th {\n        text-align: right;\n    }\n</style>\n<table border=\"1\" class=\"dataframe\">\n  <thead>\n    <tr style=\"text-align: right;\">\n      <th></th>\n      <th>PopName</th>\n      <th>Area</th>\n      <th>Year</th>\n      <th>YearInterval</th>\n      <th>Sex</th>\n      <th>Age</th>\n      <th>AgeInterval</th>\n      <th>Deaths</th>\n      <th>children</th>\n    </tr>\n  </thead>\n  <tbody>\n    <tr>\n      <th>0</th>\n      <td>USA</td>\n      <td>1</td>\n      <td>1991</td>\n      <td>1</td>\n      <td>f</td>\n      <td>0</td>\n      <td>1</td>\n      <td>13641</td>\n      <td>Children[0-12]</td>\n    </tr>\n    <tr>\n      <th>1</th>\n      <td>USA</td>\n      <td>1</td>\n      <td>1991</td>\n      <td>1</td>\n      <td>f</td>\n      <td>0</td>\n      <td>1</td>\n      <td>2270</td>\n      <td>Children[0-12]</td>\n    </tr>\n    <tr>\n      <th>2</th>\n      <td>USA</td>\n      <td>1</td>\n      <td>1991</td>\n      <td>1</td>\n      <td>f</td>\n      <td>1</td>\n      <td>1</td>\n      <td>783</td>\n      <td>Children[0-12]</td>\n    </tr>\n    <tr>\n      <th>3</th>\n      <td>USA</td>\n      <td>1</td>\n      <td>1991</td>\n      <td>1</td>\n      <td>f</td>\n      <td>1</td>\n      <td>1</td>\n      <td>566</td>\n      <td>Children[0-12]</td>\n    </tr>\n    <tr>\n      <th>4</th>\n      <td>USA</td>\n      <td>1</td>\n      <td>1991</td>\n      <td>1</td>\n      <td>f</td>\n      <td>2</td>\n      <td>1</td>\n      <td>428</td>\n      <td>Children[0-12]</td>\n    </tr>\n    <tr>\n      <th>...</th>\n      <td>...</td>\n      <td>...</td>\n      <td>...</td>\n      <td>...</td>\n      <td>...</td>\n      <td>...</td>\n      <td>...</td>\n      <td>...</td>\n      <td>...</td>\n    </tr>\n    <tr>\n      <th>307</th>\n      <td>FRATNP</td>\n      <td>324</td>\n      <td>2020</td>\n      <td>1</td>\n      <td>m</td>\n      <td>10</td>\n      <td>1</td>\n      <td>15</td>\n      <td>Children[0-12]</td>\n    </tr>\n    <tr>\n      <th>308</th>\n      <td>FRATNP</td>\n      <td>325</td>\n      <td>2020</td>\n      <td>1</td>\n      <td>m</td>\n      <td>11</td>\n      <td>1</td>\n      <td>17</td>\n      <td>Children[0-12]</td>\n    </tr>\n    <tr>\n      <th>309</th>\n      <td>FRATNP</td>\n      <td>326</td>\n      <td>2020</td>\n      <td>1</td>\n      <td>m</td>\n      <td>11</td>\n      <td>1</td>\n      <td>13</td>\n      <td>Children[0-12]</td>\n    </tr>\n    <tr>\n      <th>310</th>\n      <td>FRATNP</td>\n      <td>327</td>\n      <td>2020</td>\n      <td>1</td>\n      <td>m</td>\n      <td>12</td>\n      <td>1</td>\n      <td>14</td>\n      <td>Children[0-12]</td>\n    </tr>\n    <tr>\n      <th>311</th>\n      <td>FRATNP</td>\n      <td>328</td>\n      <td>2020</td>\n      <td>1</td>\n      <td>m</td>\n      <td>12</td>\n      <td>1</td>\n      <td>29</td>\n      <td>Children[0-12]</td>\n    </tr>\n  </tbody>\n</table>\n<p>312 rows × 9 columns</p>\n</div>"
     },
     "execution_count": 56,
     "metadata": {},
     "output_type": "execute_result"
    }
   ],
   "source": [
    "df_children['children'] = 'Children[0-12]'\n",
    "df_children"
   ],
   "metadata": {
    "collapsed": false,
    "pycharm": {
     "name": "#%%\n"
    }
   }
  },
  {
   "cell_type": "code",
   "execution_count": 57,
   "outputs": [
    {
     "data": {
      "text/plain": "array(['USA', 'DEUTNP', 'FRATNP'], dtype=object)"
     },
     "execution_count": 57,
     "metadata": {},
     "output_type": "execute_result"
    }
   ],
   "source": [
    "df_children['PopName'].unique()"
   ],
   "metadata": {
    "collapsed": false,
    "pycharm": {
     "name": "#%%\n"
    }
   }
  },
  {
   "cell_type": "code",
   "execution_count": 58,
   "outputs": [],
   "source": [
    "# create new excels\n",
    "df_children.to_excel('new-output.xlsx', index=False)"
   ],
   "metadata": {
    "collapsed": false,
    "pycharm": {
     "name": "#%%\n"
    }
   }
  },
  {
   "cell_type": "code",
   "execution_count": 59,
   "outputs": [],
   "source": [
    "df.to_csv('my_data.txt', sep='\\t', index=False)"
   ],
   "metadata": {
    "collapsed": false,
    "pycharm": {
     "name": "#%%\n"
    }
   }
  }
 ],
 "metadata": {
  "kernelspec": {
   "display_name": "Python 3",
   "language": "python",
   "name": "python3"
  },
  "language_info": {
   "codemirror_mode": {
    "name": "ipython",
    "version": 2
   },
   "file_extension": ".py",
   "mimetype": "text/x-python",
   "name": "python",
   "nbconvert_exporter": "python",
   "pygments_lexer": "ipython2",
   "version": "2.7.6"
  }
 },
 "nbformat": 4,
 "nbformat_minor": 0
}